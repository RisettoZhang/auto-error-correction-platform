{
 "cells": [
  {
   "cell_type": "markdown",
   "id": "8482ab9a",
   "metadata": {
    "tags": [
     "papermill-error-cell-tag"
    ]
   },
   "source": [
    "<span style=\"color:red; font-family:Helvetica Neue, Helvetica, Arial, sans-serif; font-size:2em;\">An Exception was encountered at '<a href=\"#papermill-error-cell\">In [5]</a>'.</span>"
   ]
  },
  {
   "cell_type": "code",
   "execution_count": 1,
   "id": "805c2de7",
   "metadata": {
    "execution": {
     "iopub.execute_input": "2025-04-10T08:08:08.018396Z",
     "iopub.status.busy": "2025-04-10T08:08:08.018235Z",
     "iopub.status.idle": "2025-04-10T08:08:08.024166Z",
     "shell.execute_reply": "2025-04-10T08:08:08.023435Z"
    },
    "papermill": {
     "duration": 0.011778,
     "end_time": "2025-04-10T08:08:08.025551",
     "exception": false,
     "start_time": "2025-04-10T08:08:08.013773",
     "status": "completed"
    },
    "tags": [
     "parameters"
    ]
   },
   "outputs": [],
   "source": [
    "data_path = 'data/ocv_features_normalized_241003.csv'\n",
    "\n",
    "target_column_name = 'expt_ocv'\n",
    "primary_column_name = 'original_md_ocv'\n",
    "#primary_column_name = 'md_ocv'\n",
    "using_primary_as_training = True\n",
    "\n",
    "drop_col_list = [\"cif_idx\",'name']\n",
    "#drop_col_list = ['SchNet']\n",
    "\n",
    "self_define_train_test = True\n",
    "\n",
    "random_seed = 461\n",
    "\n",
    "#test_proportion = 0.1\n"
   ]
  },
  {
   "cell_type": "code",
   "execution_count": 2,
   "id": "16dea6f4",
   "metadata": {
    "execution": {
     "iopub.execute_input": "2025-04-10T08:08:08.031428Z",
     "iopub.status.busy": "2025-04-10T08:08:08.031299Z",
     "iopub.status.idle": "2025-04-10T08:08:08.034649Z",
     "shell.execute_reply": "2025-04-10T08:08:08.033991Z"
    },
    "papermill": {
     "duration": 0.007673,
     "end_time": "2025-04-10T08:08:08.036015",
     "exception": false,
     "start_time": "2025-04-10T08:08:08.028342",
     "status": "completed"
    },
    "tags": [
     "injected-parameters"
    ]
   },
   "outputs": [],
   "source": [
    "# Parameters\n",
    "file_options = \"ocv_features_normalized_241003.csv\"\n",
    "proj_theme = \"OCV\"\n",
    "drop_col_list = \"cif_idx,name\"\n",
    "low_accuracy_column_name = \"original_md_ocv\"\n",
    "high_accuracy_column_name = \"expt_ocv\"\n",
    "random_seed = \"461\"\n"
   ]
  },
  {
   "cell_type": "code",
   "execution_count": 3,
   "id": "1bda56ec",
   "metadata": {
    "execution": {
     "iopub.execute_input": "2025-04-10T08:08:08.041599Z",
     "iopub.status.busy": "2025-04-10T08:08:08.041483Z",
     "iopub.status.idle": "2025-04-10T08:08:08.044749Z",
     "shell.execute_reply": "2025-04-10T08:08:08.044062Z"
    },
    "papermill": {
     "duration": 0.007654,
     "end_time": "2025-04-10T08:08:08.046060",
     "exception": false,
     "start_time": "2025-04-10T08:08:08.038406",
     "status": "completed"
    },
    "tags": []
   },
   "outputs": [],
   "source": [
    "# Parameters\n",
    "file_options = \"ocv_features_normalized_241003.csv\"\n",
    "proj_theme = \"OCV\"\n",
    "drop_col_list = \"cif_idx,name\"\n",
    "low_accuracy_column_name = \"original_md_ocv\"\n",
    "high_accuracy_column_name = \"expt_ocv\"\n",
    "random_seed = \"461\""
   ]
  },
  {
   "cell_type": "code",
   "execution_count": 4,
   "id": "0878d4a4",
   "metadata": {
    "execution": {
     "iopub.execute_input": "2025-04-10T08:08:08.051646Z",
     "iopub.status.busy": "2025-04-10T08:08:08.051452Z",
     "iopub.status.idle": "2025-04-10T08:08:08.054660Z",
     "shell.execute_reply": "2025-04-10T08:08:08.053993Z"
    },
    "papermill": {
     "duration": 0.007266,
     "end_time": "2025-04-10T08:08:08.055830",
     "exception": false,
     "start_time": "2025-04-10T08:08:08.048564",
     "status": "completed"
    },
    "tags": []
   },
   "outputs": [],
   "source": [
    "data_path = '../uploads/' + file_options\n",
    "target_column_name = high_accuracy_column_name\n",
    "primary_column_name = low_accuracy_column_name\n",
    "drop_col_list = drop_col_list.split(',')\n",
    "random_seed = int(random_seed)"
   ]
  },
  {
   "cell_type": "markdown",
   "id": "0a690a16",
   "metadata": {
    "tags": [
     "papermill-error-cell-tag"
    ]
   },
   "source": [
    "<span id=\"papermill-error-cell\" style=\"color:red; font-family:Helvetica Neue, Helvetica, Arial, sans-serif; font-size:2em;\">Execution using papermill encountered an exception here and stopped:</span>"
   ]
  },
  {
   "cell_type": "code",
   "execution_count": 5,
   "id": "c91c859f",
   "metadata": {
    "execution": {
     "iopub.execute_input": "2025-04-10T08:08:08.061351Z",
     "iopub.status.busy": "2025-04-10T08:08:08.061229Z",
     "iopub.status.idle": "2025-04-10T08:08:09.133551Z",
     "shell.execute_reply": "2025-04-10T08:08:09.132663Z"
    },
    "papermill": {
     "duration": 1.078226,
     "end_time": "2025-04-10T08:08:09.136511",
     "exception": true,
     "start_time": "2025-04-10T08:08:08.058285",
     "status": "failed"
    },
    "tags": []
   },
   "outputs": [
    {
     "ename": "ModuleNotFoundError",
     "evalue": "No module named 'utils'",
     "output_type": "error",
     "traceback": [
      "\u001b[0;31m---------------------------------------------------------------------------\u001b[0m",
      "\u001b[0;31mModuleNotFoundError\u001b[0m                       Traceback (most recent call last)",
      "Cell \u001b[0;32mIn[5], line 11\u001b[0m\n\u001b[1;32m      8\u001b[0m \u001b[38;5;28;01mimport\u001b[39;00m \u001b[38;5;21;01mmatplotlib\u001b[39;00m\u001b[38;5;21;01m.\u001b[39;00m\u001b[38;5;21;01mpyplot\u001b[39;00m \u001b[38;5;28;01mas\u001b[39;00m \u001b[38;5;21;01mplt\u001b[39;00m\n\u001b[1;32m      9\u001b[0m \u001b[38;5;28;01mimport\u001b[39;00m \u001b[38;5;21;01mnumpy\u001b[39;00m \u001b[38;5;28;01mas\u001b[39;00m \u001b[38;5;21;01mnp\u001b[39;00m\n\u001b[0;32m---> 11\u001b[0m \u001b[38;5;28;01mimport\u001b[39;00m \u001b[38;5;21;01mutils\u001b[39;00m\n\u001b[1;32m     12\u001b[0m \u001b[38;5;66;03m#importlib.reload(utils)\u001b[39;00m\n\u001b[1;32m     13\u001b[0m \u001b[38;5;28;01mfrom\u001b[39;00m \u001b[38;5;21;01mutils\u001b[39;00m \u001b[38;5;28;01mimport\u001b[39;00m evaluation, plot_scatter\n",
      "\u001b[0;31mModuleNotFoundError\u001b[0m: No module named 'utils'"
     ]
    }
   ],
   "source": [
    "from pprint import pprint\n",
    "\n",
    "import sklearn.datasets\n",
    "import sklearn.metrics \n",
    "from sklearn.model_selection import train_test_split\n",
    "\n",
    "import autosklearn.regression\n",
    "import matplotlib.pyplot as plt\n",
    "import numpy as np\n",
    "\n",
    "import utils\n",
    "#importlib.reload(utils)\n",
    "from utils import evaluation, plot_scatter\n",
    "from sklearn.metrics import r2_score\n",
    "import os"
   ]
  },
  {
   "cell_type": "code",
   "execution_count": null,
   "id": "3663bee5",
   "metadata": {
    "papermill": {
     "duration": null,
     "end_time": null,
     "exception": null,
     "start_time": null,
     "status": "pending"
    },
    "tags": []
   },
   "outputs": [],
   "source": [
    "save_dir_path = '../static/data/OCV/'\n",
    "\n",
    "if not os.path.exists(save_dir_path):\n",
    "    os.makedirs(save_dir_path)"
   ]
  },
  {
   "cell_type": "code",
   "execution_count": null,
   "id": "abb04e6e",
   "metadata": {
    "execution": {
     "iopub.execute_input": "2024-05-29T09:22:42.575128Z",
     "iopub.status.busy": "2024-05-29T09:22:42.573714Z",
     "iopub.status.idle": "2024-05-29T09:22:42.601325Z",
     "shell.execute_reply": "2024-05-29T09:22:42.600743Z"
    },
    "papermill": {
     "duration": null,
     "end_time": null,
     "exception": null,
     "start_time": null,
     "status": "pending"
    },
    "tags": []
   },
   "outputs": [],
   "source": [
    "import pandas as pd\n",
    "df_data = pd.read_csv(data_path,index_col=0)  \n",
    "df_data.dropna(inplace=True,axis='columns')\n",
    "df_data"
   ]
  },
  {
   "cell_type": "code",
   "execution_count": null,
   "id": "bcafdac0",
   "metadata": {
    "execution": {
     "iopub.execute_input": "2024-05-29T09:22:42.611109Z",
     "iopub.status.busy": "2024-05-29T09:22:42.610844Z",
     "iopub.status.idle": "2024-05-29T09:22:42.623573Z",
     "shell.execute_reply": "2024-05-29T09:22:42.623088Z"
    },
    "papermill": {
     "duration": null,
     "end_time": null,
     "exception": null,
     "start_time": null,
     "status": "pending"
    },
    "tags": []
   },
   "outputs": [],
   "source": [
    "y = df_data[target_column_name]\n",
    "X_all = df_data.drop(columns=[target_column_name])\n",
    "X_all.drop(columns=drop_col_list,inplace=True)\n",
    "X_no_primary = X_all.drop(columns=[primary_column_name])\n",
    "\n",
    "X = X_all\n",
    "if not using_primary_as_training:\n",
    "    X = X_no_primary\n",
    "    \n",
    "# from sklearn.decomposition import PCA\n",
    "\n",
    "# pca = PCA(n_components=3)\n",
    "\n",
    "# # 拟合并转换数据\n",
    "# X_pca = pca.fit_transform(X)\n",
    "X"
   ]
  },
  {
   "cell_type": "code",
   "execution_count": null,
   "id": "ee9e5188",
   "metadata": {
    "papermill": {
     "duration": null,
     "end_time": null,
     "exception": null,
     "start_time": null,
     "status": "pending"
    },
    "tags": []
   },
   "outputs": [],
   "source": [
    "df_data[\"name\"].unique()"
   ]
  },
  {
   "cell_type": "code",
   "execution_count": null,
   "id": "b34bbcc1",
   "metadata": {
    "execution": {
     "iopub.execute_input": "2024-05-29T09:22:42.658566Z",
     "iopub.status.busy": "2024-05-29T09:22:42.658006Z",
     "iopub.status.idle": "2024-05-29T09:22:42.967934Z",
     "shell.execute_reply": "2024-05-29T09:22:42.966887Z"
    },
    "papermill": {
     "duration": null,
     "end_time": null,
     "exception": null,
     "start_time": null,
     "status": "pending"
    },
    "tags": []
   },
   "outputs": [],
   "source": [
    "if self_define_train_test:\n",
    "    train_name, test_name = train_test_split(df_data[\"name\"].unique(), test_size=0.2, random_state = random_seed)\n",
    "    train_idx = df_data['name'].isin(train_name)\n",
    "    test_idx = df_data['name'].isin(test_name)\n",
    "    X_train = X[train_idx]\n",
    "    X_test = X[test_idx]\n",
    "    y_train = df_data[target_column_name][train_idx]\n",
    "    y_test = df_data[target_column_name][test_idx]\n",
    "\n",
    "else:\n",
    "    X_train, X_test, y_train, y_test = train_test_split(X, y, test_size=test_proportion, random_state=43)\n",
    "\n",
    "if using_primary_as_training:\n",
    "    name = [primary_column_name + ':'+ target_column_name,target_column_name,primary_column_name]\n",
    "fig_0 = plot_scatter(y,X[primary_column_name],name=name)       \n",
    "print('Overall')        \n",
    "evaluation(X[primary_column_name],y)\n",
    "print('\\nTest')\n",
    "evaluation(X_test[primary_column_name],y_test)"
   ]
  },
  {
   "cell_type": "code",
   "execution_count": null,
   "id": "ca6d29b9",
   "metadata": {
    "papermill": {
     "duration": null,
     "end_time": null,
     "exception": null,
     "start_time": null,
     "status": "pending"
    },
    "tags": []
   },
   "outputs": [],
   "source": [
    "test_name"
   ]
  },
  {
   "cell_type": "code",
   "execution_count": null,
   "id": "24866161",
   "metadata": {
    "execution": {
     "iopub.execute_input": "2024-05-29T09:22:42.981446Z",
     "iopub.status.busy": "2024-05-29T09:22:42.980563Z",
     "iopub.status.idle": "2024-05-29T13:32:44.803553Z",
     "shell.execute_reply": "2024-05-29T13:32:44.802761Z"
    },
    "papermill": {
     "duration": null,
     "end_time": null,
     "exception": null,
     "start_time": null,
     "status": "pending"
    },
    "tags": []
   },
   "outputs": [],
   "source": [
    "total_result = {}\n",
    "\n",
    "time_left_for_this_task = 120\n",
    "per_run_time_limit = 15\n",
    "\n",
    "#for random_seed in range(460,500):\n",
    "time_result = {}\n",
    "train_name, test_name = train_test_split(df_data[\"name\"].unique(), test_size=0.2, random_state = random_seed)\n",
    "train_idx = df_data['name'].isin(train_name)\n",
    "test_idx = df_data['name'].isin(test_name)\n",
    "X_train = X[train_idx]\n",
    "X_test = X[test_idx]\n",
    "y_train = df_data[target_column_name][train_idx]\n",
    "y_test = df_data[target_column_name][test_idx]\n",
    "\n",
    "#for time_left_for_this_task in range(110,150,10):\n",
    "automl = autosklearn.regression.AutoSklearnRegressor(\n",
    "    memory_limit=8192,\n",
    "    time_left_for_this_task = time_left_for_this_task,\n",
    "    per_run_time_limit = per_run_time_limit,\n",
    ")\n",
    "automl.fit(X_train, y_train)\n",
    "\n",
    "# print(automl.leaderboard())\n",
    "# pprint(automl.show_models(), indent=4)\n",
    "\n",
    "train_predictions = automl.predict(X_train)\n",
    "test_predictions = automl.predict(X_test)\n",
    "all_prediction = automl.predict(X)\n",
    "df_data['prediction'] = all_prediction\n",
    "#evaluation(test_predictions,y_test)\n",
    "name = ['Auto-sklearn',target_column_name,'ML']\n",
    "\n",
    "adc_fig = plot_scatter(y_train,train_predictions,y_test,test_predictions,name = name,label=['Train','Test'])\n",
    "\n",
    "print('random seed:',random_seed,'\\ntotal time:',time_left_for_this_task,'\\nper run time:',per_run_time_limit)\n",
    "\n",
    "#r2 = r2_score(y_test, test_predictions)\n",
    "\n",
    "#time_result[time_left_for_this_task] = r2\n",
    "\n",
    "#total_result[random_seed] = time_result\n",
    "\n"
   ]
  },
  {
   "cell_type": "code",
   "execution_count": null,
   "id": "bbdd3be1",
   "metadata": {
    "execution": {
     "iopub.execute_input": "2024-05-29T13:32:45.342084Z",
     "iopub.status.busy": "2024-05-29T13:32:45.341456Z",
     "iopub.status.idle": "2024-05-29T13:32:45.927296Z",
     "shell.execute_reply": "2024-05-29T13:32:45.924805Z"
    },
    "papermill": {
     "duration": null,
     "end_time": null,
     "exception": null,
     "start_time": null,
     "status": "pending"
    },
    "tags": []
   },
   "outputs": [],
   "source": [
    "# ocvplot：\n",
    "test_fig_dic = {}\n",
    "for moleculer in test_name:\n",
    "    df_selected = df_data[df_data['name']==moleculer]\n",
    "\n",
    "    test_fig = plt.figure()\n",
    "    plt.title(moleculer)\n",
    "    plt.grid(linewidth=1,linestyle='--')\n",
    "    plt.plot(df_selected['Li_num'],df_selected['expt_ocv'],label='expt ocv',c='#000000')\n",
    "    plt.plot(df_selected['Li_num'],df_selected['original_md_ocv'],label='original_md_ocv',c='#ecad9e')\n",
    "    plt.plot(df_selected['Li_num'],df_selected['prediction'],label='ML',c='#19CAAD')\n",
    "    plt.legend()\n",
    "\n",
    "    test_fig_dic[moleculer] = test_fig\n"
   ]
  },
  {
   "cell_type": "code",
   "execution_count": null,
   "id": "6fbcd019",
   "metadata": {
    "papermill": {
     "duration": null,
     "end_time": null,
     "exception": null,
     "start_time": null,
     "status": "pending"
    },
    "tags": []
   },
   "outputs": [],
   "source": [
    "# save the figure   \n",
    "\n",
    "fig_0.savefig(save_dir_path+'0_before_delta.jpg')\n",
    "adc_fig.savefig(save_dir_path+'2_adc.jpg')\n",
    "\n",
    "for idx,moleculer in enumerate(test_name):\n",
    "    test_fig_dic[moleculer].savefig(save_dir_path+'test_'+str(idx)+'.jpg')\n"
   ]
  },
  {
   "cell_type": "code",
   "execution_count": null,
   "id": "6e8ba792",
   "metadata": {
    "papermill": {
     "duration": null,
     "end_time": null,
     "exception": null,
     "start_time": null,
     "status": "pending"
    },
    "tags": []
   },
   "outputs": [],
   "source": [
    "import yaml\n",
    "import os\n",
    "\n",
    "yaml_data = {\n",
    "    \"description\": \"OCV result analysis\",\n",
    "    \"images\": [\n",
    "        f\"/static/data/{proj_theme}/0_before_delta.jpg\",\n",
    "        f\"/static/data/{proj_theme}/2_adc.jpg\",]\n",
    "        + [f\"/static/data/{proj_theme}/test_{idx}.jpg\" for idx in range(len(test_name))],\n",
    "    \"notes\": [\n",
    "        \"Before Delta Plot. The x-axis is the original MD OCV value, and the y-axis is the experimental OCV value.\",\n",
    "        \"Auto Delta Correction Plot\",\n",
    "    ]\n",
    "}\n",
    "\n",
    "\n",
    "with open(os.path.join(save_dir_path, f\"config.yaml\"), \"w\", encoding=\"utf-8\") as f:\n",
    "    yaml.dump(yaml_data, f, allow_unicode=True)\n"
   ]
  }
 ],
 "metadata": {
  "kernelspec": {
   "display_name": "autoskl",
   "language": "python",
   "name": "python3"
  },
  "language_info": {
   "codemirror_mode": {
    "name": "ipython",
    "version": 3
   },
   "file_extension": ".py",
   "mimetype": "text/x-python",
   "name": "python",
   "nbconvert_exporter": "python",
   "pygments_lexer": "ipython3",
   "version": "3.9.18"
  },
  "papermill": {
   "default_parameters": {},
   "duration": 2.256472,
   "end_time": "2025-04-10T08:08:09.561134",
   "environment_variables": {},
   "exception": true,
   "input_path": "models/askl_ocv.ipynb",
   "output_path": "pm_result.ipynb",
   "parameters": {
    "drop_col_list": "cif_idx,name",
    "file_options": "ocv_features_normalized_241003.csv",
    "high_accuracy_column_name": "expt_ocv",
    "low_accuracy_column_name": "original_md_ocv",
    "proj_theme": "OCV",
    "random_seed": "461"
   },
   "start_time": "2025-04-10T08:08:07.304662",
   "version": "2.5.0"
  }
 },
 "nbformat": 4,
 "nbformat_minor": 5
}