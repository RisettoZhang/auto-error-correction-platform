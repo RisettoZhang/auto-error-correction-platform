{
 "cells": [
  {
   "cell_type": "code",
   "execution_count": null,
   "metadata": {
    "tags": [
     "parameters"
    ]
   },
   "outputs": [],
   "source": [
    "proj_theme = 'proj_theme'\n",
    "\n",
    "file_path = 'file_path'\n",
    "smi_column_name = 'smi_column_name'\n",
    "low_accuracy_column_name = 'low_accuracy_column_name'\n",
    "high_accuracy_column_name = 'high_accuracy_column_name'"
   ]
  },
  {
   "cell_type": "code",
   "execution_count": null,
   "metadata": {},
   "outputs": [],
   "source": [
    "print('proj_theme',proj_theme,\n",
    "    '\\nfile_path',file_path,\n",
    "    '\\nsmi_column_name',smi_column_name,\n",
    "    '\\nlow_accuracy_column_name',low_accuracy_column_name,\n",
    "    '\\nhigh_accuracy_column_name',high_accuracy_column_name,\n",
    "    )"
   ]
  },
  {
   "cell_type": "markdown",
   "metadata": {},
   "source": []
  }
 ],
 "metadata": {
  "kernelspec": {
   "display_name": "autoskl",
   "language": "python",
   "name": "python3"
  },
  "language_info": {
   "name": "python",
   "version": "3.9.18"
  }
 },
 "nbformat": 4,
 "nbformat_minor": 2
}
